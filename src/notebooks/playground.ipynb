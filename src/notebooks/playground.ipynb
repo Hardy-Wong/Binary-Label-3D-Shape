{
 "cells": [
  {
   "cell_type": "code",
   "execution_count": 1,
   "metadata": {},
   "outputs": [
    {
     "name": "stdout",
     "output_type": "stream",
     "text": [
      "Jupyter environment detected. Enabling Open3D WebVisualizer.\n",
      "[Open3D INFO] WebRTC GUI backend enabled.\n",
      "[Open3D INFO] WebRTCWindowSystem: HTTP handshake server disabled.\n"
     ]
    }
   ],
   "source": [
    "from mesh import OrganMesh\n",
    "from scipy.spatial.transform import Rotation\n",
    "import numpy as np\n",
    "from copy import deepcopy"
   ]
  },
  {
   "cell_type": "code",
   "execution_count": 19,
   "metadata": {},
   "outputs": [
    {
     "ename": "AssertionError",
     "evalue": "\nArrays are not almost equal to 6 decimals\n\nMismatched elements: 1 / 3 (33.3%)\nMax absolute difference: 3.78417968e-06\nMax relative difference: 3.43214449e-08\n x: array([-110.257 ,   26.3379,  -39.2795])\n y: array([-110.257004,   26.3379  ,  -39.279499])",
     "output_type": "error",
     "traceback": [
      "\u001b[0;31m---------------------------------------------------------------------------\u001b[0m",
      "\u001b[0;31mAssertionError\u001b[0m                            Traceback (most recent call last)",
      "Cell \u001b[0;32mIn [19], line 5\u001b[0m\n\u001b[1;32m      3\u001b[0m loaded_mesh \u001b[39m=\u001b[39m OrganMesh(\u001b[39m'\u001b[39m\u001b[39mtmp.ply\u001b[39m\u001b[39m'\u001b[39m)\n\u001b[1;32m      4\u001b[0m \u001b[39mfor\u001b[39;00m i \u001b[39min\u001b[39;00m \u001b[39mrange\u001b[39m(tetra\u001b[39m.\u001b[39mnum_nodes):\n\u001b[0;32m----> 5\u001b[0m     np\u001b[39m.\u001b[39;49mtesting\u001b[39m.\u001b[39;49massert_array_almost_equal(tetra\u001b[39m.\u001b[39;49mnodes[i], loaded_mesh\u001b[39m.\u001b[39;49mnodes[i], decimal\u001b[39m=\u001b[39;49m\u001b[39m6\u001b[39;49m)\n",
      "    \u001b[0;31m[... skipping hidden 1 frame]\u001b[0m\n",
      "File \u001b[0;32m/usr/local/lib/python3.8/site-packages/numpy/testing/_private/utils.py:844\u001b[0m, in \u001b[0;36massert_array_compare\u001b[0;34m(comparison, x, y, err_msg, verbose, header, precision, equal_nan, equal_inf)\u001b[0m\n\u001b[1;32m    840\u001b[0m         err_msg \u001b[39m+\u001b[39m\u001b[39m=\u001b[39m \u001b[39m'\u001b[39m\u001b[39m\\n\u001b[39;00m\u001b[39m'\u001b[39m \u001b[39m+\u001b[39m \u001b[39m'\u001b[39m\u001b[39m\\n\u001b[39;00m\u001b[39m'\u001b[39m\u001b[39m.\u001b[39mjoin(remarks)\n\u001b[1;32m    841\u001b[0m         msg \u001b[39m=\u001b[39m build_err_msg([ox, oy], err_msg,\n\u001b[1;32m    842\u001b[0m                             verbose\u001b[39m=\u001b[39mverbose, header\u001b[39m=\u001b[39mheader,\n\u001b[1;32m    843\u001b[0m                             names\u001b[39m=\u001b[39m(\u001b[39m'\u001b[39m\u001b[39mx\u001b[39m\u001b[39m'\u001b[39m, \u001b[39m'\u001b[39m\u001b[39my\u001b[39m\u001b[39m'\u001b[39m), precision\u001b[39m=\u001b[39mprecision)\n\u001b[0;32m--> 844\u001b[0m         \u001b[39mraise\u001b[39;00m \u001b[39mAssertionError\u001b[39;00m(msg)\n\u001b[1;32m    845\u001b[0m \u001b[39mexcept\u001b[39;00m \u001b[39mValueError\u001b[39;00m:\n\u001b[1;32m    846\u001b[0m     \u001b[39mimport\u001b[39;00m \u001b[39mtraceback\u001b[39;00m\n",
      "\u001b[0;31mAssertionError\u001b[0m: \nArrays are not almost equal to 6 decimals\n\nMismatched elements: 1 / 3 (33.3%)\nMax absolute difference: 3.78417968e-06\nMax relative difference: 3.43214449e-08\n x: array([-110.257 ,   26.3379,  -39.2795])\n y: array([-110.257004,   26.3379  ,  -39.279499])"
     ]
    }
   ],
   "source": [
    "tetra = OrganMesh(\"/work/3D-CT PLY/liver.ply\")\n",
    "tetra.save('tmp.ply')\n",
    "loaded_mesh = OrganMesh('tmp.ply')\n",
    "for i in range(tetra.num_nodes):\n",
    "    np.testing.assert_array_almost_equal(tetra.nodes[i], loaded_mesh.nodes[i], decimal=6)"
   ]
  },
  {
   "cell_type": "code",
   "execution_count": 3,
   "metadata": {},
   "outputs": [],
   "source": [
    "# def translate(target):\n",
    "#     tmp = deepcopy(target)\n",
    "#     rotvec = np.array([0, np.pi / 2, np.pi / 3])\n",
    "#     rot = Rotation.from_rotvec(rotvec)\n",
    "#     rotation_matrix = rot.as_matrix()\n",
    "#     translate = np.array([1,1,1])\n",
    "#     for i in range(target.num_nodes):\n",
    "#         n = target.nodes[i]\n",
    "#         tmp.nodes[i] =  rotation_matrix @ n + translate\n",
    "#     return tmp\n",
    "    \n",
    "# test_liver = OrganMesh(\"/work/3D-CT PLY/liver.ply\")\n",
    "# translated_liver = translate(test_liver)\n",
    "# translated_liver.save(\"/work/test/test_translate_liver.ply\")\n",
    "# tetra.save(\"/work/test/test_tetra.ply\")"
   ]
  },
  {
   "cell_type": "code",
   "execution_count": 2,
   "metadata": {},
   "outputs": [],
   "source": [
    "import sys\n",
    "sys.path.append('/work/src')\n",
    "from registration import GlobalRotationRegisration, PointToPointICP, PointToPointTrimeshICP"
   ]
  },
  {
   "cell_type": "code",
   "execution_count": 3,
   "metadata": {},
   "outputs": [],
   "source": [
    "source = OrganMesh(\"/work/3D-CT PLY/liver.ply\")\n",
    "target = OrganMesh(\"/work/test/test_translate_liver.ply\")\n",
    "registration = PointToPointICP(source=source, target=target)\n",
    "p2p_transformed_mesh = registration.transform()\n",
    "\n",
    "def evaluate(source, target):\n",
    "    err = 0.\n",
    "    for i in range(source.num_nodes):\n",
    "        err += np.linalg.norm(source.nodes[i] - target.nodes[i])\n",
    "    return err / source.num_nodes"
   ]
  },
  {
   "cell_type": "code",
   "execution_count": 4,
   "metadata": {},
   "outputs": [
    {
     "data": {
      "text/plain": [
       "177.36377353291053"
      ]
     },
     "execution_count": 4,
     "metadata": {},
     "output_type": "execute_result"
    }
   ],
   "source": [
    "evaluate(p2p_transformed_mesh, target)"
   ]
  },
  {
   "cell_type": "code",
   "execution_count": 5,
   "metadata": {},
   "outputs": [
    {
     "name": "stdout",
     "output_type": "stream",
     "text": [
      "[8.71998877e-10 1.57079633e+00 1.04719755e+00]\n"
     ]
    }
   ],
   "source": [
    "global_rotation_registration = GlobalRotationRegisration(source=source, target=target)\n",
    "gr_transformed_mesh = global_rotation_registration.transform()\n",
    "evaluate(gr_transformed_mesh, target)\n",
    "gr_transformed_mesh.save('/work/test/gr_transformed_liver.ply')"
   ]
  },
  {
   "cell_type": "code",
   "execution_count": 6,
   "metadata": {},
   "outputs": [
    {
     "data": {
      "text/plain": [
       "2.4216268084890235e-06"
      ]
     },
     "execution_count": 6,
     "metadata": {},
     "output_type": "execute_result"
    }
   ],
   "source": [
    "\n",
    "evaluate(gr_transformed_mesh, target)"
   ]
  },
  {
   "cell_type": "code",
   "execution_count": 17,
   "metadata": {},
   "outputs": [
    {
     "name": "stdout",
     "output_type": "stream",
     "text": [
      "106.60199441075419\n"
     ]
    }
   ],
   "source": [
    "p2p_trimesh_regisration = PointToPointTrimeshICP(source=source, target=target)\n",
    "p2p_trimesh_regisrationed = p2p_trimesh_regisration.transform()\n",
    "print(evaluate(p2p_trimesh_regisrationed, target))\n",
    "p2p_trimesh_regisrationed.save('/work/test/trimeshP2P_transformed_liver.ply')"
   ]
  },
  {
   "cell_type": "code",
   "execution_count": 18,
   "metadata": {},
   "outputs": [
    {
     "data": {
      "text/plain": [
       "151.02248265125777"
      ]
     },
     "execution_count": 18,
     "metadata": {},
     "output_type": "execute_result"
    }
   ],
   "source": [
    "evaluate(source, target)"
   ]
  },
  {
   "cell_type": "code",
   "execution_count": 19,
   "metadata": {},
   "outputs": [
    {
     "data": {
      "text/plain": [
       "0.0"
      ]
     },
     "execution_count": 19,
     "metadata": {},
     "output_type": "execute_result"
    }
   ],
   "source": [
    "evaluate(source, source)"
   ]
  },
  {
   "cell_type": "code",
   "execution_count": 20,
   "metadata": {},
   "outputs": [
    {
     "name": "stdout",
     "output_type": "stream",
     "text": [
      "Requirement already satisfied: rtree in /usr/local/lib/python3.8/site-packages (1.0.1)\n",
      "\u001b[33mWARNING: Running pip as the 'root' user can result in broken permissions and conflicting behaviour with the system package manager. It is recommended to use a virtual environment instead: https://pip.pypa.io/warnings/venv\u001b[0m\u001b[33m\n",
      "\u001b[0m\u001b[33mWARNING: You are using pip version 22.0.4; however, version 22.2.2 is available.\n",
      "You should consider upgrading via the '/usr/local/bin/python -m pip install --upgrade pip' command.\u001b[0m\u001b[33m\n",
      "\u001b[0m"
     ]
    }
   ],
   "source": [
    "!pip install rtree"
   ]
  },
  {
   "cell_type": "code",
   "execution_count": 21,
   "metadata": {},
   "outputs": [
    {
     "name": "stdout",
     "output_type": "stream",
     "text": [
      "64.75069035381225\n"
     ]
    }
   ],
   "source": [
    "\n",
    "from registration import TrimeshPCA\n",
    "\n",
    "\n",
    "trimesh_pca = TrimeshPCA(source=source, target=target)\n",
    "trimesh_pca_transformed = trimesh_pca.transform()\n",
    "print( evaluate(trimesh_pca_transformed, target))\n",
    "trimesh_pca_transformed.save('/work/test/gr_transformed_liver.ply')"
   ]
  },
  {
   "cell_type": "markdown",
   "metadata": {},
   "source": [
    "# 問題点\n",
    "- Meshの位置合わせができない。\n",
    " - 頂点の対応関係は？\n",
    "  - おそらく取れているはず。確証はない。\n",
    "  "
   ]
  },
  {
   "cell_type": "code",
   "execution_count": 22,
   "metadata": {},
   "outputs": [
    {
     "ename": "NameError",
     "evalue": "name 'tetra' is not defined",
     "output_type": "error",
     "traceback": [
      "\u001b[0;31m---------------------------------------------------------------------------\u001b[0m",
      "\u001b[0;31mNameError\u001b[0m                                 Traceback (most recent call last)",
      "Cell \u001b[0;32mIn [22], line 1\u001b[0m\n\u001b[0;32m----> 1\u001b[0m tetra\n",
      "\u001b[0;31mNameError\u001b[0m: name 'tetra' is not defined"
     ]
    }
   ],
   "source": [
    "tetra"
   ]
  },
  {
   "cell_type": "code",
   "execution_count": null,
   "metadata": {},
   "outputs": [],
   "source": []
  }
 ],
 "metadata": {
  "kernelspec": {
   "display_name": "Python 3.8.13 64-bit",
   "language": "python",
   "name": "python3"
  },
  "language_info": {
   "codemirror_mode": {
    "name": "ipython",
    "version": 3
   },
   "file_extension": ".py",
   "mimetype": "text/x-python",
   "name": "python",
   "nbconvert_exporter": "python",
   "pygments_lexer": "ipython3",
   "version": "3.8.13"
  },
  "orig_nbformat": 4,
  "vscode": {
   "interpreter": {
    "hash": "949777d72b0d2535278d3dc13498b2535136f6dfe0678499012e853ee9abcab1"
   }
  }
 },
 "nbformat": 4,
 "nbformat_minor": 2
}
