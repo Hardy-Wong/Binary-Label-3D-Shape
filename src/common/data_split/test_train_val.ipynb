{
 "cells": [
  {
   "cell_type": "code",
   "execution_count": 13,
   "metadata": {},
   "outputs": [],
   "source": [
    "trian_file_names = \"\"\"[2022-09-29 12:09:32,693][__main__][INFO] - train_file_names: [PosixPath('/work/artifact/RIMDfeature/2022-09-26/06-29-50_ddd056b494bf9d00af77c53549e7cc08f23cffe4/case108_liver_rimd.npy'), PosixPath('/work/artifact/RIMDfeature/2022-09-26/06-29-50_ddd056b494bf9d00af77c53549e7cc08f23cffe4/case057_liver_rimd.npy'), PosixPath('/work/artifact/RIMDfeature/2022-09-26/06-29-50_ddd056b494bf9d00af77c53549e7cc08f23cffe4/case042_liver_rimd.npy'), PosixPath('/work/artifact/RIMDfeature/2022-09-26/06-29-50_ddd056b494bf9d00af77c53549e7cc08f23cffe4/case138_liver_rimd.npy'), PosixPath('/work/artifact/RIMDfeature/2022-09-26/06-29-50_ddd056b494bf9d00af77c53549e7cc08f23cffe4/case141_liver_rimd.npy'), PosixPath('/work/artifact/RIMDfeature/2022-09-26/06-29-50_ddd056b494bf9d00af77c53549e7cc08f23cffe4/case063_liver_rimd.npy'), PosixPath('/work/artifact/RIMDfeature/2022-09-26/06-29-50_ddd056b494bf9d00af77c53549e7cc08f23cffe4/case005_liver_rimd.npy'), PosixPath('/work/artifact/RIMDfeature/2022-09-26/06-29-50_ddd056b494bf9d00af77c53549e7cc08f23cffe4/case089_liver_rimd.npy'), PosixPath('/work/artifact/RIMDfeature/2022-09-26/06-29-50_ddd056b494bf9d00af77c53549e7cc08f23cffe4/case012_liver_rimd.npy'), PosixPath('/work/artifact/RIMDfeature/2022-09-26/06-29-50_ddd056b494bf9d00af77c53549e7cc08f23cffe4/case131_liver_rimd.npy'), PosixPath('/work/artifact/RIMDfeature/2022-09-26/06-29-50_ddd056b494bf9d00af77c53549e7cc08f23cffe4/case074_liver_rimd.npy'), PosixPath('/work/artifact/RIMDfeature/2022-09-26/06-29-50_ddd056b494bf9d00af77c53549e7cc08f23cffe4/case121_liver_rimd.npy'), PosixPath('/work/artifact/RIMDfeature/2022-09-26/06-29-50_ddd056b494bf9d00af77c53549e7cc08f23cffe4/case091_liver_rimd.npy'), PosixPath('/work/artifact/RIMDfeature/2022-09-26/06-29-50_ddd056b494bf9d00af77c53549e7cc08f23cffe4/case058_liver_rimd.npy'), PosixPath('/work/artifact/RIMDfeature/2022-09-26/06-29-50_ddd056b494bf9d00af77c53549e7cc08f23cffe4/case111_liver_rimd.npy'), PosixPath('/work/artifact/RIMDfeature/2022-09-26/06-29-50_ddd056b494bf9d00af77c53549e7cc08f23cffe4/case014_liver_rimd.npy'), PosixPath('/work/artifact/RIMDfeature/2022-09-26/06-29-50_ddd056b494bf9d00af77c53549e7cc08f23cffe4/case133_liver_rimd.npy'), PosixPath('/work/artifact/RIMDfeature/2022-09-26/06-29-50_ddd056b494bf9d00af77c53549e7cc08f23cffe4/case126_liver_rimd.npy'), PosixPath('/work/artifact/RIMDfeature/2022-09-26/06-29-50_ddd056b494bf9d00af77c53549e7cc08f23cffe4/case119_liver_rimd.npy'), PosixPath('/work/artifact/RIMDfeature/2022-09-26/06-29-50_ddd056b494bf9d00af77c53549e7cc08f23cffe4/case004_liver_rimd.npy'), PosixPath('/work/artifact/RIMDfeature/2022-09-26/06-29-50_ddd056b494bf9d00af77c53549e7cc08f23cffe4/case009_liver_rimd.npy'), PosixPath('/work/artifact/RIMDfeature/2022-09-26/06-29-50_ddd056b494bf9d00af77c53549e7cc08f23cffe4/case015_liver_rimd.npy'), PosixPath('/work/artifact/RIMDfeature/2022-09-26/06-29-50_ddd056b494bf9d00af77c53549e7cc08f23cffe4/case030_liver_rimd.npy'), PosixPath('/work/artifact/RIMDfeature/2022-09-26/06-29-50_ddd056b494bf9d00af77c53549e7cc08f23cffe4/case102_liver_rimd.npy'), PosixPath('/work/artifact/RIMDfeature/2022-09-26/06-29-50_ddd056b494bf9d00af77c53549e7cc08f23cffe4/case109_liver_rimd.npy'), PosixPath('/work/artifact/RIMDfeature/2022-09-26/06-29-50_ddd056b494bf9d00af77c53549e7cc08f23cffe4/case028_liver_rimd.npy'), PosixPath('/work/artifact/RIMDfeature/2022-09-26/06-29-50_ddd056b494bf9d00af77c53549e7cc08f23cffe4/case021_liver_rimd.npy'), PosixPath('/work/artifact/RIMDfeature/2022-09-26/06-29-50_ddd056b494bf9d00af77c53549e7cc08f23cffe4/case093_liver_rimd.npy'), PosixPath('/work/artifact/RIMDfeature/2022-09-26/06-29-50_ddd056b494bf9d00af77c53549e7cc08f23cffe4/case033_liver_rimd.npy'), PosixPath('/work/artifact/RIMDfeature/2022-09-26/06-29-50_ddd056b494bf9d00af77c53549e7cc08f23cffe4/case129_liver_rimd.npy'), PosixPath('/work/artifact/RIMDfeature/2022-09-26/06-29-50_ddd056b494bf9d00af77c53549e7cc08f23cffe4/case134_liver_rimd.npy'), PosixPath('/work/artifact/RIMDfeature/2022-09-26/06-29-50_ddd056b494bf9d00af77c53549e7cc08f23cffe4/case043_liver_rimd.npy'), PosixPath('/work/artifact/RIMDfeature/2022-09-26/06-29-50_ddd056b494bf9d00af77c53549e7cc08f23cffe4/case029_liver_rimd.npy'), PosixPath('/work/artifact/RIMDfeature/2022-09-26/06-29-50_ddd056b494bf9d00af77c53549e7cc08f23cffe4/case027_liver_rimd.npy'), PosixPath('/work/artifact/RIMDfeature/2022-09-26/06-29-50_ddd056b494bf9d00af77c53549e7cc08f23cffe4/case092_liver_rimd.npy'), PosixPath('/work/artifact/RIMDfeature/2022-09-26/06-29-50_ddd056b494bf9d00af77c53549e7cc08f23cffe4/case142_liver_rimd.npy'), PosixPath('/work/artifact/RIMDfeature/2022-09-26/06-29-50_ddd056b494bf9d00af77c53549e7cc08f23cffe4/case097_liver_rimd.npy'), PosixPath('/work/artifact/RIMDfeature/2022-09-26/06-29-50_ddd056b494bf9d00af77c53549e7cc08f23cffe4/case101_liver_rimd.npy'), PosixPath('/work/artifact/RIMDfeature/2022-09-26/06-29-50_ddd056b494bf9d00af77c53549e7cc08f23cffe4/case061_liver_rimd.npy'), PosixPath('/work/artifact/RIMDfeature/2022-09-26/06-29-50_ddd056b494bf9d00af77c53549e7cc08f23cffe4/case122_liver_rimd.npy'), PosixPath('/work/artifact/RIMDfeature/2022-09-26/06-29-50_ddd056b494bf9d00af77c53549e7cc08f23cffe4/case017_liver_rimd.npy'), PosixPath('/work/artifact/RIMDfeature/2022-09-26/06-29-50_ddd056b494bf9d00af77c53549e7cc08f23cffe4/case098_liver_rimd.npy'), PosixPath('/work/artifact/RIMDfeature/2022-09-26/06-29-50_ddd056b494bf9d00af77c53549e7cc08f23cffe4/case145_liver_rimd.npy'), PosixPath('/work/artifact/RIMDfeature/2022-09-26/06-29-50_ddd056b494bf9d00af77c53549e7cc08f23cffe4/case124_liver_rimd.npy'), PosixPath('/work/artifact/RIMDfeature/2022-09-26/06-29-50_ddd056b494bf9d00af77c53549e7cc08f23cffe4/case072_liver_rimd.npy'), PosixPath('/work/artifact/RIMDfeature/2022-09-26/06-29-50_ddd056b494bf9d00af77c53549e7cc08f23cffe4/case064_liver_rimd.npy'), PosixPath('/work/artifact/RIMDfeature/2022-09-26/06-29-50_ddd056b494bf9d00af77c53549e7cc08f23cffe4/case073_liver_rimd.npy'), PosixPath('/work/artifact/RIMDfeature/2022-09-26/06-29-50_ddd056b494bf9d00af77c53549e7cc08f23cffe4/case103_liver_rimd.npy'), PosixPath('/work/artifact/RIMDfeature/2022-09-26/06-29-50_ddd056b494bf9d00af77c53549e7cc08f23cffe4/case069_liver_rimd.npy'), PosixPath('/work/artifact/RIMDfeature/2022-09-26/06-29-50_ddd056b494bf9d00af77c53549e7cc08f23cffe4/case135_liver_rimd.npy'), PosixPath('/work/artifact/RIMDfeature/2022-09-26/06-29-50_ddd056b494bf9d00af77c53549e7cc08f23cffe4/case054_liver_rimd.npy'), PosixPath('/work/artifact/RIMDfeature/2022-09-26/06-29-50_ddd056b494bf9d00af77c53549e7cc08f23cffe4/case031_liver_rimd.npy'), PosixPath('/work/artifact/RIMDfeature/2022-09-26/06-29-50_ddd056b494bf9d00af77c53549e7cc08f23cffe4/case083_liver_rimd.npy'), PosixPath('/work/artifact/RIMDfeature/2022-09-26/06-29-50_ddd056b494bf9d00af77c53549e7cc08f23cffe4/case120_liver_rimd.npy'), PosixPath('/work/artifact/RIMDfeature/2022-09-26/06-29-50_ddd056b494bf9d00af77c53549e7cc08f23cffe4/case106_liver_rimd.npy'), PosixPath('/work/artifact/RIMDfeature/2022-09-26/06-29-50_ddd056b494bf9d00af77c53549e7cc08f23cffe4/case078_liver_rimd.npy'), PosixPath('/work/artifact/RIMDfeature/2022-09-26/06-29-50_ddd056b494bf9d00af77c53549e7cc08f23cffe4/case062_liver_rimd.npy'), PosixPath('/work/artifact/RIMDfeature/2022-09-26/06-29-50_ddd056b494bf9d00af77c53549e7cc08f23cffe4/case105_liver_rimd.npy'), PosixPath('/work/artifact/RIMDfeature/2022-09-26/06-29-50_ddd056b494bf9d00af77c53549e7cc08f23cffe4/case100_liver_rimd.npy'), PosixPath('/work/artifact/RIMDfeature/2022-09-26/06-29-50_ddd056b494bf9d00af77c53549e7cc08f23cffe4/case013_liver_rimd.npy'), PosixPath('/work/artifact/RIMDfeature/2022-09-26/06-29-50_ddd056b494bf9d00af77c53549e7cc08f23cffe4/case040_liver_rimd.npy'), PosixPath('/work/artifact/RIMDfeature/2022-09-26/06-29-50_ddd056b494bf9d00af77c53549e7cc08f23cffe4/case128_liver_rimd.npy'), PosixPath('/work/artifact/RIMDfeature/2022-09-26/06-29-50_ddd056b494bf9d00af77c53549e7cc08f23cffe4/case008_liver_rimd.npy'), PosixPath('/work/artifact/RIMDfeature/2022-09-26/06-29-50_ddd056b494bf9d00af77c53549e7cc08f23cffe4/case136_liver_rimd.npy'), PosixPath('/work/artifact/RIMDfeature/2022-09-26/06-29-50_ddd056b494bf9d00af77c53549e7cc08f23cffe4/case095_liver_rimd.npy'), PosixPath('/work/artifact/RIMDfeature/2022-09-26/06-29-50_ddd056b494bf9d00af77c53549e7cc08f23cffe4/case125_liver_rimd.npy'), PosixPath('/work/artifact/RIMDfeature/2022-09-26/06-29-50_ddd056b494bf9d00af77c53549e7cc08f23cffe4/case060_liver_rimd.npy'), PosixPath('/work/artifact/RIMDfeature/2022-09-26/06-29-50_ddd056b494bf9d00af77c53549e7cc08f23cffe4/case110_liver_rimd.npy'), PosixPath('/work/artifact/RIMDfeature/2022-09-26/06-29-50_ddd056b494bf9d00af77c53549e7cc08f23cffe4/case107_liver_rimd.npy'), PosixPath('/work/artifact/RIMDfeature/2022-09-26/06-29-50_ddd056b494bf9d00af77c53549e7cc08f23cffe4/case139_liver_rimd.npy'), PosixPath('/work/artifact/RIMDfeature/2022-09-26/06-29-50_ddd056b494bf9d00af77c53549e7cc08f23cffe4/case022_liver_rimd.npy'), PosixPath('/work/artifact/RIMDfeature/2022-09-26/06-29-50_ddd056b494bf9d00af77c53549e7cc08f23cffe4/case114_liver_rimd.npy'), PosixPath('/work/artifact/RIMDfeature/2022-09-26/06-29-50_ddd056b494bf9d00af77c53549e7cc08f23cffe4/case018_liver_rimd.npy'), PosixPath('/work/artifact/RIMDfeature/2022-09-26/06-29-50_ddd056b494bf9d00af77c53549e7cc08f23cffe4/case041_liver_rimd.npy'), PosixPath('/work/artifact/RIMDfeature/2022-09-26/06-29-50_ddd056b494bf9d00af77c53549e7cc08f23cffe4/case137_liver_rimd.npy'), PosixPath('/work/artifact/RIMDfeature/2022-09-26/06-29-50_ddd056b494bf9d00af77c53549e7cc08f23cffe4/case026_liver_rimd.npy'), PosixPath('/work/artifact/RIMDfeature/2022-09-26/06-29-50_ddd056b494bf9d00af77c53549e7cc08f23cffe4/case143_liver_rimd.npy'), PosixPath('/work/artifact/RIMDfeature/2022-09-26/06-29-50_ddd056b494bf9d00af77c53549e7cc08f23cffe4/case019_liver_rimd.npy'), PosixPath('/work/artifact/RIMDfeature/2022-09-26/06-29-50_ddd056b494bf9d00af77c53549e7cc08f23cffe4/case118_liver_rimd.npy'), PosixPath('/work/artifact/RIMDfeature/2022-09-26/06-29-50_ddd056b494bf9d00af77c53549e7cc08f23cffe4/case096_liver_rimd.npy'), PosixPath('/work/artifact/RIMDfeature/2022-09-26/06-29-50_ddd056b494bf9d00af77c53549e7cc08f23cffe4/case146_liver_rimd.npy'), PosixPath('/work/artifact/RIMDfeature/2022-09-26/06-29-50_ddd056b494bf9d00af77c53549e7cc08f23cffe4/case112_liver_rimd.npy'), PosixPath('/work/artifact/RIMDfeature/2022-09-26/06-29-50_ddd056b494bf9d00af77c53549e7cc08f23cffe4/case056_liver_rimd.npy'), PosixPath('/work/artifact/RIMDfeature/2022-09-26/06-29-50_ddd056b494bf9d00af77c53549e7cc08f23cffe4/case020_liver_rimd.npy'), PosixPath('/work/artifact/RIMDfeature/2022-09-26/06-29-50_ddd056b494bf9d00af77c53549e7cc08f23cffe4/case067_liver_rimd.npy'), PosixPath('/work/artifact/RIMDfeature/2022-09-26/06-29-50_ddd056b494bf9d00af77c53549e7cc08f23cffe4/case034_liver_rimd.npy'), PosixPath('/work/artifact/RIMDfeature/2022-09-26/06-29-50_ddd056b494bf9d00af77c53549e7cc08f23cffe4/case117_liver_rimd.npy')]\n",
    "[2022-09-29 12:09:32,694][__main__][INFO] - train_file_num: 87\"\"\"\n",
    "test_file_names = \"\"\"[2022-09-29 12:09:32,694][__main__][INFO] - test_file_names: [PosixPath('/work/artifact/RIMDfeature/2022-09-26/06-29-50_ddd056b494bf9d00af77c53549e7cc08f23cffe4/case006_liver_rimd.npy'), PosixPath('/work/artifact/RIMDfeature/2022-09-26/06-29-50_ddd056b494bf9d00af77c53549e7cc08f23cffe4/case085_liver_rimd.npy'), PosixPath('/work/artifact/RIMDfeature/2022-09-26/06-29-50_ddd056b494bf9d00af77c53549e7cc08f23cffe4/case099_liver_rimd.npy'), PosixPath('/work/artifact/RIMDfeature/2022-09-26/06-29-50_ddd056b494bf9d00af77c53549e7cc08f23cffe4/case047_liver_rimd.npy'), PosixPath('/work/artifact/RIMDfeature/2022-09-26/06-29-50_ddd056b494bf9d00af77c53549e7cc08f23cffe4/case094_liver_rimd.npy'), PosixPath('/work/artifact/RIMDfeature/2022-09-26/06-29-50_ddd056b494bf9d00af77c53549e7cc08f23cffe4/case050_liver_rimd.npy'), PosixPath('/work/artifact/RIMDfeature/2022-09-26/06-29-50_ddd056b494bf9d00af77c53549e7cc08f23cffe4/case144_liver_rimd.npy'), PosixPath('/work/artifact/RIMDfeature/2022-09-26/06-29-50_ddd056b494bf9d00af77c53549e7cc08f23cffe4/case080_liver_rimd.npy'), PosixPath('/work/artifact/RIMDfeature/2022-09-26/06-29-50_ddd056b494bf9d00af77c53549e7cc08f23cffe4/case068_liver_rimd.npy'), PosixPath('/work/artifact/RIMDfeature/2022-09-26/06-29-50_ddd056b494bf9d00af77c53549e7cc08f23cffe4/case132_liver_rimd.npy'), PosixPath('/work/artifact/RIMDfeature/2022-09-26/06-29-50_ddd056b494bf9d00af77c53549e7cc08f23cffe4/case051_liver_rimd.npy'), PosixPath('/work/artifact/RIMDfeature/2022-09-26/06-29-50_ddd056b494bf9d00af77c53549e7cc08f23cffe4/case127_liver_rimd.npy'), PosixPath('/work/artifact/RIMDfeature/2022-09-26/06-29-50_ddd056b494bf9d00af77c53549e7cc08f23cffe4/case049_liver_rimd.npy'), PosixPath('/work/artifact/RIMDfeature/2022-09-26/06-29-50_ddd056b494bf9d00af77c53549e7cc08f23cffe4/case065_liver_rimd.npy'), PosixPath('/work/artifact/RIMDfeature/2022-09-26/06-29-50_ddd056b494bf9d00af77c53549e7cc08f23cffe4/case055_liver_rimd.npy'), PosixPath('/work/artifact/RIMDfeature/2022-09-26/06-29-50_ddd056b494bf9d00af77c53549e7cc08f23cffe4/case046_liver_rimd.npy'), PosixPath('/work/artifact/RIMDfeature/2022-09-26/06-29-50_ddd056b494bf9d00af77c53549e7cc08f23cffe4/case075_liver_rimd.npy'), PosixPath('/work/artifact/RIMDfeature/2022-09-26/06-29-50_ddd056b494bf9d00af77c53549e7cc08f23cffe4/case087_liver_rimd.npy'), PosixPath('/work/artifact/RIMDfeature/2022-09-26/06-29-50_ddd056b494bf9d00af77c53549e7cc08f23cffe4/case090_liver_rimd.npy')]\n",
    "[2022-09-29 12:09:32,695][__main__][INFO] - test_file_num: 19\"\"\"\n",
    "val_file_names = \"\"\"[2022-09-29 12:09:32,695][__main__][INFO] - val_file_names: [PosixPath('/work/artifact/RIMDfeature/2022-09-26/06-29-50_ddd056b494bf9d00af77c53549e7cc08f23cffe4/case088_liver_rimd.npy'), PosixPath('/work/artifact/RIMDfeature/2022-09-26/06-29-50_ddd056b494bf9d00af77c53549e7cc08f23cffe4/case011_liver_rimd.npy'), PosixPath('/work/artifact/RIMDfeature/2022-09-26/06-29-50_ddd056b494bf9d00af77c53549e7cc08f23cffe4/case077_liver_rimd.npy'), PosixPath('/work/artifact/RIMDfeature/2022-09-26/06-29-50_ddd056b494bf9d00af77c53549e7cc08f23cffe4/case070_liver_rimd.npy'), PosixPath('/work/artifact/RIMDfeature/2022-09-26/06-29-50_ddd056b494bf9d00af77c53549e7cc08f23cffe4/case007_liver_rimd.npy'), PosixPath('/work/artifact/RIMDfeature/2022-09-26/06-29-50_ddd056b494bf9d00af77c53549e7cc08f23cffe4/case113_liver_rimd.npy'), PosixPath('/work/artifact/RIMDfeature/2022-09-26/06-29-50_ddd056b494bf9d00af77c53549e7cc08f23cffe4/case104_liver_rimd.npy'), PosixPath('/work/artifact/RIMDfeature/2022-09-26/06-29-50_ddd056b494bf9d00af77c53549e7cc08f23cffe4/case053_liver_rimd.npy'), PosixPath('/work/artifact/RIMDfeature/2022-09-26/06-29-50_ddd056b494bf9d00af77c53549e7cc08f23cffe4/case130_liver_rimd.npy'), PosixPath('/work/artifact/RIMDfeature/2022-09-26/06-29-50_ddd056b494bf9d00af77c53549e7cc08f23cffe4/case076_liver_rimd.npy'), PosixPath('/work/artifact/RIMDfeature/2022-09-26/06-29-50_ddd056b494bf9d00af77c53549e7cc08f23cffe4/case052_liver_rimd.npy'), PosixPath('/work/artifact/RIMDfeature/2022-09-26/06-29-50_ddd056b494bf9d00af77c53549e7cc08f23cffe4/case010_liver_rimd.npy'), PosixPath('/work/artifact/RIMDfeature/2022-09-26/06-29-50_ddd056b494bf9d00af77c53549e7cc08f23cffe4/case086_liver_rimd.npy'), PosixPath('/work/artifact/RIMDfeature/2022-09-26/06-29-50_ddd056b494bf9d00af77c53549e7cc08f23cffe4/case059_liver_rimd.npy'), PosixPath('/work/artifact/RIMDfeature/2022-09-26/06-29-50_ddd056b494bf9d00af77c53549e7cc08f23cffe4/case039_liver_rimd.npy'), PosixPath('/work/artifact/RIMDfeature/2022-09-26/06-29-50_ddd056b494bf9d00af77c53549e7cc08f23cffe4/case045_liver_rimd.npy'), PosixPath('/work/artifact/RIMDfeature/2022-09-26/06-29-50_ddd056b494bf9d00af77c53549e7cc08f23cffe4/case116_liver_rimd.npy'), PosixPath('/work/artifact/RIMDfeature/2022-09-26/06-29-50_ddd056b494bf9d00af77c53549e7cc08f23cffe4/case035_liver_rimd.npy'), PosixPath('/work/artifact/RIMDfeature/2022-09-26/06-29-50_ddd056b494bf9d00af77c53549e7cc08f23cffe4/case140_liver_rimd.npy')]\n",
    "[2022-09-29 12:09:32,695][__main__][INFO] - val_file_num: 19\"\"\""
   ]
  },
  {
   "cell_type": "code",
   "execution_count": 2,
   "metadata": {},
   "outputs": [],
   "source": [
    "import re"
   ]
  },
  {
   "cell_type": "code",
   "execution_count": 20,
   "metadata": {},
   "outputs": [],
   "source": [
    "\n",
    "\n",
    "train_file_ids = re.findall('case[0-9]+', trian_file_names)\n",
    "test_file_ids = re.findall('case[0-9]+', test_file_names)\n",
    "val_file_ids = re.findall('case[0-9]+', val_file_names)"
   ]
  },
  {
   "cell_type": "code",
   "execution_count": 16,
   "metadata": {},
   "outputs": [
    {
     "data": {
      "text/plain": [
       "str"
      ]
     },
     "execution_count": 16,
     "metadata": {},
     "output_type": "execute_result"
    }
   ],
   "source": [
    "type(train_file_ids[0])"
   ]
  },
  {
   "cell_type": "code",
   "execution_count": 22,
   "metadata": {},
   "outputs": [],
   "source": [
    "with open('val_case_ids.txt', 'w') as f:\n",
    "    for idx in val_file_ids:\n",
    "        f.write(idx + \" \")\n"
   ]
  },
  {
   "cell_type": "code",
   "execution_count": null,
   "metadata": {},
   "outputs": [],
   "source": []
  }
 ],
 "metadata": {
  "kernelspec": {
   "display_name": "Python 3.8.15 64-bit",
   "language": "python",
   "name": "python3"
  },
  "language_info": {
   "codemirror_mode": {
    "name": "ipython",
    "version": 3
   },
   "file_extension": ".py",
   "mimetype": "text/x-python",
   "name": "python",
   "nbconvert_exporter": "python",
   "pygments_lexer": "ipython3",
   "version": "3.8.15"
  },
  "orig_nbformat": 4,
  "vscode": {
   "interpreter": {
    "hash": "949777d72b0d2535278d3dc13498b2535136f6dfe0678499012e853ee9abcab1"
   }
  }
 },
 "nbformat": 4,
 "nbformat_minor": 2
}
